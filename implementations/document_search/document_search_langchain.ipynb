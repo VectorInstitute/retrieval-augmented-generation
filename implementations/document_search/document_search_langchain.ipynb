{
 "cells": [
  {
   "cell_type": "markdown",
   "id": "3d86f6cd",
   "metadata": {},
   "source": [
    "[![Open in Colab](https://colab.research.google.com/assets/colab-badge.svg)](https://colab.research.google.com/github/VectorInstitute/rag-bootcamp/blob/refactor/uv-migration/implementations/document_search/document_search_langchain.ipynb)\n",
    "\n",
    "# Document Search with LangChain"
   ]
  },
  {
   "cell_type": "markdown",
   "id": "4168e6b6",
   "metadata": {},
   "source": [
    "This example shows how to use the Python [LangChain](https://python.langchain.com/docs/get_started/introduction) library to run a text-generation request on open-source LLMs and embedding models using the OpenAI SDK, then augment that request using the text stored in a collection of local PDF documents.\n",
    "\n",
    "### 📝 Requirements\n",
    "\n",
    "To run this notebook, you will need:\n",
    "\n",
    "- **OpenAI API key**:  \n",
    "    - Sign up at [OpenAI](https://platform.openai.com/) and create an API key"
   ]
  },
  {
   "cell_type": "markdown",
   "id": "22e4da1f",
   "metadata": {},
   "source": [
    "## Set up the RAG workflow environment"
   ]
  },
  {
   "cell_type": "markdown",
   "id": "cbd96bba",
   "metadata": {},
   "source": [
    "#### Install libraries (Only in Google Colab)"
   ]
  },
  {
   "cell_type": "code",
   "execution_count": null,
   "id": "c3bb60bb",
   "metadata": {},
   "outputs": [],
   "source": [
    "import os\n",
    "\n",
    "if 'COLAB_RELEASE_TAG' in os.environ:\n",
    "    # This is a Google Colab environment\n",
    "    # Install required dependencies\n",
    "    !pip3 install faiss-cpu langchain langchain-community langchain-huggingface langchain-openai # aieng-rag-utils"
   ]
  },
  {
   "cell_type": "markdown",
   "id": "1e2cb87e-cdf4-4002-a700-77db86d0b318",
   "metadata": {},
   "source": [
    "#### Import libraries"
   ]
  },
  {
   "cell_type": "code",
   "execution_count": 2,
   "id": "742aa343-c90c-4e4a-8099-a3fa218e256d",
   "metadata": {},
   "outputs": [],
   "source": [
    "import warnings\n",
    "warnings.filterwarnings('ignore')"
   ]
  },
  {
   "cell_type": "code",
   "execution_count": 3,
   "id": "2f637730",
   "metadata": {},
   "outputs": [],
   "source": [
    "import os\n",
    "\n",
    "from aieng.rag.utils import get_device_name\n",
    "from aieng.rag.utils.search import DocumentReader, pretty_print, download_file\n",
    "\n",
    "from langchain.chains import RetrievalQA\n",
    "from langchain_community.vectorstores import FAISS\n",
    "from langchain_huggingface.embeddings import HuggingFaceEmbeddings\n",
    "from langchain_openai import ChatOpenAI"
   ]
  },
  {
   "cell_type": "markdown",
   "id": "567a7448",
   "metadata": {},
   "source": [
    "#### Load OpenAI env variables"
   ]
  },
  {
   "cell_type": "code",
   "execution_count": 5,
   "id": "e9e0bec6-a89c-4fca-a218-c784ec18e109",
   "metadata": {},
   "outputs": [],
   "source": [
    "OPENAI_BASE_URL = os.getenv(\"OPENAI_BASE_URL\",\"https://api.openai.com/v1\")\n",
    "OPENAI_API_KEY = os.getenv(\"OPENAI_API_KEY\", \"YOUR_OPENAI_API_KEY\")"
   ]
  },
  {
   "cell_type": "markdown",
   "id": "495aaff7",
   "metadata": {},
   "source": [
    "#### Download source documents"
   ]
  },
  {
   "cell_type": "code",
   "execution_count": 6,
   "id": "8419de1a",
   "metadata": {},
   "outputs": [
    {
     "name": "stdout",
     "output_type": "stream",
     "text": [
      "Downloaded https://vectorinstitute.ai/wp-content/uploads/2023/05/vector-institute-2021-22-annual-report_accessible.pdf to ./source_documents/vector-institute-2021-22-annual-report_accessible.pdf\n"
     ]
    }
   ],
   "source": [
    "DIRECTORY_PATH = \"./source_documents\"\n",
    "DOCUMENT_URL = \"https://vectorinstitute.ai/wp-content/uploads/2023/05/vector-institute-2021-22-annual-report_accessible.pdf\"\n",
    "\n",
    "download_file(DOCUMENT_URL, DIRECTORY_PATH)"
   ]
  },
  {
   "cell_type": "markdown",
   "id": "a83c93ad-fe81-4acd-9ea3-eca9b425ee9a",
   "metadata": {},
   "source": [
    "#### Choose LLM and embedding model"
   ]
  },
  {
   "cell_type": "code",
   "execution_count": 5,
   "id": "2553d130-5b02-4852-928f-beb7ecd05d3f",
   "metadata": {},
   "outputs": [],
   "source": [
    "GENERATOR_MODEL_NAME = \"gpt-4.1\"\n",
    "EMBEDDING_MODEL_NAME = \"BAAI/bge-base-en-v1.5\""
   ]
  },
  {
   "cell_type": "markdown",
   "id": "1e558afb",
   "metadata": {},
   "source": [
    "## Start with a basic generation request without RAG augmentation\n",
    "\n",
    "Let's start by asking the model a difficult, domain-specific question we don't expect it to have an answer to. A simple question like \"*What is the capital of France?*\" is not a good question here, because that's world knowledge that we expect the LLM to know.\n",
    "\n",
    "Instead, we want to ask it a question that is domain-specific and it won't know the answer to. A good example would be an obscure detail buried deep within a company's annual report. For example:\n",
    "\n",
    "*How many Vector scholarships in AI were awarded in 2022?*"
   ]
  },
  {
   "cell_type": "code",
   "execution_count": 6,
   "id": "6133a928",
   "metadata": {},
   "outputs": [],
   "source": [
    "query = \"How many Vector scholarships in AI were awarded in 2022?\""
   ]
  },
  {
   "cell_type": "markdown",
   "id": "358a22c5",
   "metadata": {},
   "source": [
    "## Now send the query to the open source model using KScope"
   ]
  },
  {
   "cell_type": "code",
   "execution_count": 7,
   "id": "00061d61",
   "metadata": {},
   "outputs": [
    {
     "name": "stdout",
     "output_type": "stream",
     "text": [
      "Result: \n",
      "\n",
      "In 2022, the **Vector Institute awarded 295 Vector Scholarships in Artificial Intelligence (VSAI)** to students entering AI-related master’s programs at Ontario universities.\n"
     ]
    }
   ],
   "source": [
    "llm = ChatOpenAI(\n",
    "    model=GENERATOR_MODEL_NAME,\n",
    "    temperature=0,\n",
    "    max_tokens=None,\n",
    "    base_url=OPENAI_BASE_URL,\n",
    "    api_key=OPENAI_API_KEY\n",
    ")\n",
    "message = [\n",
    "    (\"human\", query),\n",
    "]\n",
    "try:\n",
    "    result = llm.invoke(message)\n",
    "    print(f\"Result: \\n\\n{result.content}\")\n",
    "except Exception as err:\n",
    "    if \"Error code: 503\" in err.message:\n",
    "        print(f\"The model {GENERATOR_MODEL_NAME} is not ready yet.\")\n",
    "    else:\n",
    "        raise"
   ]
  },
  {
   "cell_type": "markdown",
   "id": "e6e1c200",
   "metadata": {},
   "source": [
    "Without additional information, the model is unable to answer the question correctly. **Vector in fact awarded 109 AI scholarships in 2022.** Fortunately, we do have that information available in Vector's 2021-22 Annual Report, which is available in the `source_documents` folder. Let's see how we can use RAG to augment our question with a document search and get the correct answer."
   ]
  },
  {
   "cell_type": "markdown",
   "id": "0255ea68",
   "metadata": {},
   "source": [
    "## Ingestion: Load and store the documents from `source_documents`"
   ]
  },
  {
   "cell_type": "markdown",
   "id": "ba9d0304",
   "metadata": {},
   "source": [
    "Start by reading in all the PDF files from `source_documents`, break them up into smaller digestible chunks, then encode them as vector embeddings."
   ]
  },
  {
   "cell_type": "code",
   "execution_count": 8,
   "id": "5710c72d",
   "metadata": {},
   "outputs": [
    {
     "name": "stdout",
     "output_type": "stream",
     "text": [
      "Number of source documents: 42\n",
      "Number of text chunks: 196\n"
     ]
    }
   ],
   "source": [
    "# Load PDFs\n",
    "document_reader = DocumentReader(directory_path=DIRECTORY_PATH)\n",
    "docs, chunks = document_reader.load()\n",
    "\n",
    "print(f\"Number of source documents: {len(docs)}\")\n",
    "print(f\"Number of text chunks: {len(chunks)}\")"
   ]
  },
  {
   "cell_type": "markdown",
   "id": "6ef3fd15-213f-4774-88e0-bbdadf28789c",
   "metadata": {},
   "source": [
    "#### Define the embeddings model"
   ]
  },
  {
   "cell_type": "code",
   "execution_count": 9,
   "id": "24b42902-d145-4f61-80c2-334a4b1da886",
   "metadata": {},
   "outputs": [
    {
     "name": "stdout",
     "output_type": "stream",
     "text": [
      "Setting up the embeddings model...\n"
     ]
    }
   ],
   "source": [
    "device = get_device_name()\n",
    "\n",
    "model_kwargs = {'device': device, 'trust_remote_code': True}\n",
    "encode_kwargs = {'normalize_embeddings': True} # set True to compute cosine similarity\n",
    "\n",
    "print(f\"Setting up the embeddings model...\")\n",
    "embeddings = HuggingFaceEmbeddings(\n",
    "    model_name=EMBEDDING_MODEL_NAME,\n",
    "    model_kwargs=model_kwargs,\n",
    "    encode_kwargs=encode_kwargs,\n",
    ")"
   ]
  },
  {
   "cell_type": "markdown",
   "id": "b4a7545e",
   "metadata": {},
   "source": [
    "## Retrieval: Make the document chunks available via a retriever"
   ]
  },
  {
   "cell_type": "markdown",
   "id": "01bc16fe",
   "metadata": {},
   "source": [
    "The retriever will identify the document chunks that most closely match our original query. (This takes about 1-2 minutes)"
   ]
  },
  {
   "cell_type": "code",
   "execution_count": 10,
   "id": "1048c42a",
   "metadata": {},
   "outputs": [],
   "source": [
    "vectorstore = FAISS.from_documents(chunks, embeddings)\n",
    "retriever = vectorstore.as_retriever(search_kwargs={\"k\": 5})\n",
    "\n",
    "# Retrieve the most relevant context from the vector store based on the query\n",
    "retrieved_docs = retriever.invoke(query)"
   ]
  },
  {
   "cell_type": "markdown",
   "id": "8fe1690e",
   "metadata": {},
   "source": [
    "Let's see what results it found. Important to note, these results are in the order the retriever thought were the best matches."
   ]
  },
  {
   "cell_type": "code",
   "execution_count": 11,
   "id": "51dc81d7-8333-41e6-9e77-47a45ee0b374",
   "metadata": {},
   "outputs": [
    {
     "name": "stdout",
     "output_type": "stream",
     "text": [
      "Document 1:\n",
      "\n",
      "5 \n",
      "Annual Report 2021–22Vector Institute\n",
      "SPOTLIGHT ON FIVE YEARS OF AI \n",
      "LEADERSHIP FOR CANADIANS \n",
      "SINCE THE VECTOR INSTITUTE WAS FOUNDED IN 2017: \n",
      "2,080+ \n",
      "Students have graduated from \n",
      "Vector-recognized AI programs and \n",
      "study paths \n",
      "$6.2 M \n",
      "Scholarship funds committed to \n",
      "students in AI programs \n",
      "3,700+ \n",
      "Postings for AI-focused jobs and \n",
      "internships ofered on Vector’s \n",
      "Digital Talent Hub \n",
      "$103 M \n",
      "In research funding committed to \n",
      "Vector-afliated researchers \n",
      "94 \n",
      "Research awards earned by\n",
      "----------------------------------------------------------------------------------------------------\n",
      "Document 2:\n",
      "\n",
      "26 \n",
      " \n",
      " \n",
      "VECTOR SCHOLARSHIPS IN \n",
      "AI ATTRACT TOP TALENT \n",
      "TO ONTARIO UNIVERSITIES \n",
      "109 \n",
      "Vector Scholarships in AI awarded \n",
      "34 \n",
      "Programs \n",
      "13 \n",
      "Universities \n",
      "351 \n",
      "Scholarships awarded since the \n",
      "program launched in 2018 \n",
      "Supported with funding from the Province of \n",
      "Ontario, the Vector Institute Scholarship in Artifcial \n",
      "Intelligence (VSAI) helps Ontario universities to attract \n",
      "the best and brightest students to study in AI-related \n",
      "master’s programs. \n",
      "Scholarship recipients connect directly with leading\n",
      "----------------------------------------------------------------------------------------------------\n",
      "Document 3:\n",
      "\n",
      "The complete Ontario AI Snapshot for 2021–22 will be available soon on the \n",
      "Vector Institute website at vectorinstitute.ai. \n",
      "YoY \n",
      "22,458 \n",
      "AI jobs created \n",
      "YoY \n",
      "59,67 3 \n",
      "AI jobs retained \n",
      "YoY \n",
      "1,775 \n",
      "New AI Master’s & study \n",
      "path enrolments \n",
      "YoY \n",
      "1,007 \n",
      "New AI Master’s graduates from \n",
      "Vector-recognized programs \n",
      "YoY \n",
      "66 \n",
      "New AI-related patents \n",
      "fled across Canada \n",
      "YoY \n",
      "$2.86 BILLION \n",
      "In AI-related VC investment* \n",
      "YoY \n",
      "273 \n",
      "Companies invested in \n",
      "the Ontario AI ecosystem \n",
      "YoY \n",
      "50 \n",
      "Companies moved into\n",
      "----------------------------------------------------------------------------------------------------\n",
      "Document 4:\n",
      "\n",
      "23 \n",
      "RESEARCH AWARDS AND \n",
      "ACHIEVEMENTS \n",
      "Each year, members of Vector’s research community \n",
      "are recognized for outstanding contributions to AI and \n",
      "machine learning felds. Highlights of 2021–22 include: \n",
      "GLOBAL REACH OF VECTOR \n",
      "RESEARCHERS AND THEIR WORK \n",
      "Vector researchers published papers, gave \n",
      "presentations, or led workshops at many of the \n",
      "top AI conferences this year, including NeurIPS, \n",
      "CVPR, ICLR, ICML, and ACM FAccT. \n",
      "380+ Research papers presented at  \n",
      "high-impact global \n",
      "conferences and in top-\n",
      "----------------------------------------------------------------------------------------------------\n",
      "Document 5:\n",
      "\n",
      "16 V ector Institute Annual Report 2021–22 \n",
      "RESEARCH & \n",
      "EDUCATION \n",
      "Vector is advancing the frontiers of \n",
      "AI knowledge \n",
      "What was once only a few founding faculty has evolved \n",
      "over the last fve years into a fourishing community \n",
      "comprising over 700 researchers who are pushing the \n",
      "boundaries of AI, machine learning, and deep learning \n",
      "in critical areas to beneft Ontarians, Canadians, and \n",
      "people around the world. \n",
      "Vector continues to drive this growth through new and\n"
     ]
    }
   ],
   "source": [
    "pretty_print(retrieved_docs)"
   ]
  },
  {
   "cell_type": "markdown",
   "id": "9ad5e95e-f127-4092-b960-33b39ad21147",
   "metadata": {},
   "source": [
    "## Now send the query to the RAG pipeline"
   ]
  },
  {
   "cell_type": "code",
   "execution_count": 12,
   "id": "e26d9f46-a082-4497-8ffc-9fa3eccc2ef3",
   "metadata": {},
   "outputs": [
    {
     "name": "stdout",
     "output_type": "stream",
     "text": [
      "Result: \n",
      "\n",
      "In 2022, 109 Vector Scholarships in AI were awarded.\n"
     ]
    }
   ],
   "source": [
    "rag_pipeline = RetrievalQA.from_llm(llm=llm, retriever=retriever)\n",
    "result = rag_pipeline.invoke(input=query)\n",
    "print(f\"Result: \\n\\n{result['result']}\")"
   ]
  },
  {
   "cell_type": "markdown",
   "id": "3008507b",
   "metadata": {},
   "source": [
    "The model provides the correct answer (109) using the retrieved information.\n",
    "\n",
    "But it also continues with the following 2 scenarios (as of now) due to stochasticity:\n",
    "1. It sometimes outputs another sentence which seems to be hallucinated as it gets confused between the total scholarships (351) and those awarded just in 2022.\n",
    "2. It sometimes just says *I don't know* because its not sure about the year."
   ]
  }
 ],
 "metadata": {
  "kernelspec": {
   "display_name": ".venv",
   "language": "python",
   "name": "python3"
  },
  "language_info": {
   "codemirror_mode": {
    "name": "ipython",
    "version": 3
   },
   "file_extension": ".py",
   "mimetype": "text/x-python",
   "name": "python",
   "nbconvert_exporter": "python",
   "pygments_lexer": "ipython3",
   "version": "3.10.17"
  }
 },
 "nbformat": 4,
 "nbformat_minor": 5
}
