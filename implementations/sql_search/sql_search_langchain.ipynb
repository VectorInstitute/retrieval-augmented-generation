{
 "cells": [
  {
   "cell_type": "markdown",
   "id": "3d86f6cd",
   "metadata": {},
   "source": [
    "[![Open in Colab](https://colab.research.google.com/assets/colab-badge.svg)](https://colab.research.google.com/github/VectorInstitute/rag-bootcamp/blob/refactor/uv-migration/implementations/sql_search/sql_search_langchain.ipynb)\n",
    "\n",
    "# SQL Search (structured data) with LangChain"
   ]
  },
  {
   "cell_type": "markdown",
   "id": "4168e6b6",
   "metadata": {},
   "source": [
    "This example shows how to use the Python [LangChain](https://python.langchain.com/docs/get_started/introduction) library to run a natural language RAG search against structured data in a SQL database.\n",
    "\n",
    "This leverages LangChain's [SQL Database Chains](https://python.langchain.com/docs/integrations/tools/sql_database/) to translate a natural language prompt into a SQL query. After getting a result, the LLM generates a natural language response.\n",
    "\n",
    "### 📝 Requirements\n",
    "\n",
    "To run this notebook, you will need:\n",
    "\n",
    "- **Kaggle account**:  \n",
    "    - Kaggle username  \n",
    "    - Kaggle API token ([how to get it](https://www.kaggle.com/docs/api))\n",
    "- **OpenAI API key**:  \n",
    "    - Sign up at [OpenAI](https://platform.openai.com/) and create an API key"
   ]
  },
  {
   "cell_type": "markdown",
   "id": "22e4da1f",
   "metadata": {},
   "source": [
    "## Set up the RAG workflow environment"
   ]
  },
  {
   "cell_type": "markdown",
   "id": "9406fe33",
   "metadata": {},
   "source": [
    "#### Install libraries (Only in Google Colab)"
   ]
  },
  {
   "cell_type": "code",
   "execution_count": null,
   "id": "eb9b534f",
   "metadata": {},
   "outputs": [],
   "source": [
    "import os\n",
    "\n",
    "if 'COLAB_RELEASE_TAG' in os.environ:\n",
    "    # This is a Google Colab environment\n",
    "    # Install required dependencies\n",
    "    !pip3 install faiss-cpu langchain langchain-community langchain-experimental langchain-openai # aieng-rag-utils"
   ]
  },
  {
   "cell_type": "markdown",
   "id": "c7c85ba1-df09-49c6-a1c3-11d0b26e9e00",
   "metadata": {},
   "source": [
    "#### Import libraries"
   ]
  },
  {
   "cell_type": "code",
   "execution_count": 13,
   "id": "7e652b6c-9957-43f5-a78c-567593f09ab0",
   "metadata": {},
   "outputs": [],
   "source": [
    "import warnings\n",
    "warnings.filterwarnings('ignore')"
   ]
  },
  {
   "cell_type": "code",
   "execution_count": 14,
   "id": "2f637730",
   "metadata": {},
   "outputs": [],
   "source": [
    "import os\n",
    "import pandas as pd\n",
    "import sys\n",
    "\n",
    "from aieng.rag.utils import get_device_name\n",
    "from aieng.rag.utils.search import DocumentReader, pretty_print\n",
    "\n",
    "from langchain_community.utilities import SQLDatabase\n",
    "from langchain_experimental.sql import SQLDatabaseChain\n",
    "from langchain_openai import ChatOpenAI"
   ]
  },
  {
   "cell_type": "markdown",
   "id": "31a51026-488a-4506-9937-82e4ea6e0534",
   "metadata": {},
   "source": [
    "#### Load OpenAI env variables"
   ]
  },
  {
   "cell_type": "code",
   "execution_count": 15,
   "id": "c4ccb9b4-cb43-4779-8b06-1640f2a8a2be",
   "metadata": {},
   "outputs": [],
   "source": [
    "OPENAI_BASE_URL = os.getenv(\"OPENAI_BASE_URL\",\"https://api.openai.com/v1\")\n",
    "OPENAI_API_KEY = os.getenv(\"OPENAI_API_KEY\", \"YOUR_OPENAI_API_KEY\")"
   ]
  },
  {
   "cell_type": "markdown",
   "id": "cdc4e421-771f-4d8c-adbf-3dfada507192",
   "metadata": {},
   "source": [
    "#### Choose LLM (no embedding model required)"
   ]
  },
  {
   "cell_type": "code",
   "execution_count": 16,
   "id": "534fbe39-3337-49ac-8357-f1b1ecf51970",
   "metadata": {},
   "outputs": [],
   "source": [
    "GENERATOR_MODEL_NAME = \"gpt-4.1\""
   ]
  },
  {
   "cell_type": "markdown",
   "id": "0ecfc36b-5ac7-4501-9a3c-d403365baefc",
   "metadata": {},
   "source": [
    "## Set up your SQL data"
   ]
  },
  {
   "cell_type": "markdown",
   "id": "c2d73f12-fe04-4f62-be79-0b557ccfb026",
   "metadata": {},
   "source": [
    "In this example, we provide a financial dataset of term deposit applications from a Portuguese banking institution. A term deposit is a cash investment held at a financial institution, where money is invested for an agreed rate of interest over a fixed amount of time, or term. The dataset is available on [Kaggle](https://www.kaggle.com/datasets/prakharrathi25/banking-dataset-marketing-targets).\n",
    "\n",
    "This dataset is downloaded from Kaggle and a SQLite database (`banking_term_deposits.db`) is created from it and stored in the `data` folder."
   ]
  },
  {
   "cell_type": "code",
   "execution_count": 28,
   "id": "e3916e0f",
   "metadata": {},
   "outputs": [
    {
     "name": "stdout",
     "output_type": "stream",
     "text": [
      "Requirement already satisfied: kaggle in /Users/aishwaryabannimatti/.pyenv/versions/3.10.17/lib/python3.10/site-packages (1.7.4.5)\n",
      "Requirement already satisfied: protobuf in /Users/aishwaryabannimatti/.pyenv/versions/3.10.17/lib/python3.10/site-packages (from kaggle) (6.31.0)\n",
      "Requirement already satisfied: text-unidecode in /Users/aishwaryabannimatti/.pyenv/versions/3.10.17/lib/python3.10/site-packages (from kaggle) (1.3)\n",
      "Requirement already satisfied: certifi>=14.05.14 in /Users/aishwaryabannimatti/.pyenv/versions/3.10.17/lib/python3.10/site-packages (from kaggle) (2025.4.26)\n",
      "Requirement already satisfied: urllib3>=1.15.1 in /Users/aishwaryabannimatti/.pyenv/versions/3.10.17/lib/python3.10/site-packages (from kaggle) (2.4.0)\n",
      "Requirement already satisfied: six>=1.10 in /Users/aishwaryabannimatti/.pyenv/versions/3.10.17/lib/python3.10/site-packages (from kaggle) (1.17.0)\n",
      "Requirement already satisfied: idna in /Users/aishwaryabannimatti/.pyenv/versions/3.10.17/lib/python3.10/site-packages (from kaggle) (3.10)\n",
      "Requirement already satisfied: python-dateutil>=2.5.3 in /Users/aishwaryabannimatti/.pyenv/versions/3.10.17/lib/python3.10/site-packages (from kaggle) (2.9.0.post0)\n",
      "Requirement already satisfied: setuptools>=21.0.0 in /Users/aishwaryabannimatti/.pyenv/versions/3.10.17/lib/python3.10/site-packages (from kaggle) (65.5.0)\n",
      "Requirement already satisfied: webencodings in /Users/aishwaryabannimatti/.pyenv/versions/3.10.17/lib/python3.10/site-packages (from kaggle) (0.5.1)\n",
      "Requirement already satisfied: python-slugify in /Users/aishwaryabannimatti/.pyenv/versions/3.10.17/lib/python3.10/site-packages (from kaggle) (8.0.4)\n",
      "Requirement already satisfied: bleach in /Users/aishwaryabannimatti/.pyenv/versions/3.10.17/lib/python3.10/site-packages (from kaggle) (6.2.0)\n",
      "Requirement already satisfied: requests in /Users/aishwaryabannimatti/.pyenv/versions/3.10.17/lib/python3.10/site-packages (from kaggle) (2.32.3)\n",
      "Requirement already satisfied: tqdm in /Users/aishwaryabannimatti/.pyenv/versions/3.10.17/lib/python3.10/site-packages (from kaggle) (4.67.1)\n",
      "Requirement already satisfied: charset-normalizer in /Users/aishwaryabannimatti/.pyenv/versions/3.10.17/lib/python3.10/site-packages (from kaggle) (3.4.2)\n",
      "\n",
      "\u001b[1m[\u001b[0m\u001b[34;49mnotice\u001b[0m\u001b[1;39;49m]\u001b[0m\u001b[39;49m A new release of pip is available: \u001b[0m\u001b[31;49m23.0.1\u001b[0m\u001b[39;49m -> \u001b[0m\u001b[32;49m25.1.1\u001b[0m\n",
      "\u001b[1m[\u001b[0m\u001b[34;49mnotice\u001b[0m\u001b[1;39;49m]\u001b[0m\u001b[39;49m To update, run: \u001b[0m\u001b[32;49mpip install --upgrade pip\u001b[0m\n",
      "Dataset URL: https://www.kaggle.com/datasets/prakharrathi25/banking-dataset-marketing-targets\n",
      "License(s): CC0-1.0\n",
      "Downloading banking-dataset-marketing-targets.zip to /Users/aishwaryabannimatti/Documents/work/rag-bootcamp/implementations/sql_search\n",
      "  0%|                                                | 0.00/576k [00:00<?, ?B/s]\n",
      "100%|████████████████████████████████████████| 576k/576k [00:00<00:00, 1.26GB/s]\n",
      "Archive:  banking-dataset-marketing-targets.zip\n",
      "  inflating: data/test.csv           \n",
      "  inflating: data/train.csv          \n"
     ]
    }
   ],
   "source": [
    "!pip3 install kaggle\n",
    "!rm -rf data/\n",
    "\n",
    "KAGGLE_USERNAME= os.getenv(\"KAGGLE_USERNAME\", \"YOUR_KAGGLE_USERNAME\")\n",
    "KAGGLE_KEY = os.getenv(\"KAGGLE_KEY\", \"YOUR_KAGGLE_KEY\")\n",
    "\n",
    "os.environ[\"KAGGLE_USERNAME\"] = KAGGLE_USERNAME\n",
    "os.environ[\"KAGGLE_KEY\"] = KAGGLE_KEY\n",
    "\n",
    "# Download the dataset from Kaggle\n",
    "!kaggle datasets download prakharrathi25/banking-dataset-marketing-targets\n",
    "# Unzip the downloaded dataset\n",
    "!unzip banking-dataset-marketing-targets.zip -d data\n",
    "\n",
    "# Clean up the downloaded files\n",
    "!rm banking-dataset-marketing-targets.zip\n",
    "!rm data/test.csv\n",
    "!mv data/train.csv data/banking_term_deposits.csv\n",
    "\n",
    "CSV_FILE = \"data/banking_term_deposits.csv\"\n",
    "DB_FILE = \"data/banking_term_deposits.db\"\n",
    "\n",
    "# Create a database file from the CSV data\n",
    "if not os.path.exists(DB_FILE):\n",
    "    df = pd.read_csv(CSV_FILE, delimiter=\";\")\n",
    "    df.to_sql(\"banking_term_deposits\", \"sqlite:///\" + DB_FILE, if_exists=\"replace\", index=False)"
   ]
  },
  {
   "cell_type": "markdown",
   "id": "6959eb2a",
   "metadata": {},
   "source": [
    "Let's look at a preview of the data."
   ]
  },
  {
   "cell_type": "code",
   "execution_count": 33,
   "id": "2ff81b0d",
   "metadata": {},
   "outputs": [
    {
     "data": {
      "text/html": [
       "<div>\n",
       "<style scoped>\n",
       "    .dataframe tbody tr th:only-of-type {\n",
       "        vertical-align: middle;\n",
       "    }\n",
       "\n",
       "    .dataframe tbody tr th {\n",
       "        vertical-align: top;\n",
       "    }\n",
       "\n",
       "    .dataframe thead th {\n",
       "        text-align: right;\n",
       "    }\n",
       "</style>\n",
       "<table border=\"1\" class=\"dataframe\">\n",
       "  <thead>\n",
       "    <tr style=\"text-align: right;\">\n",
       "      <th></th>\n",
       "      <th>age</th>\n",
       "      <th>job</th>\n",
       "      <th>marital</th>\n",
       "      <th>education</th>\n",
       "      <th>default</th>\n",
       "      <th>balance</th>\n",
       "      <th>housing</th>\n",
       "      <th>loan</th>\n",
       "      <th>contact</th>\n",
       "      <th>day</th>\n",
       "      <th>month</th>\n",
       "      <th>duration</th>\n",
       "      <th>campaign</th>\n",
       "      <th>pdays</th>\n",
       "      <th>previous</th>\n",
       "      <th>poutcome</th>\n",
       "      <th>y</th>\n",
       "    </tr>\n",
       "  </thead>\n",
       "  <tbody>\n",
       "    <tr>\n",
       "      <th>0</th>\n",
       "      <td>58</td>\n",
       "      <td>management</td>\n",
       "      <td>married</td>\n",
       "      <td>tertiary</td>\n",
       "      <td>no</td>\n",
       "      <td>2143</td>\n",
       "      <td>yes</td>\n",
       "      <td>no</td>\n",
       "      <td>unknown</td>\n",
       "      <td>5</td>\n",
       "      <td>may</td>\n",
       "      <td>261</td>\n",
       "      <td>1</td>\n",
       "      <td>-1</td>\n",
       "      <td>0</td>\n",
       "      <td>unknown</td>\n",
       "      <td>no</td>\n",
       "    </tr>\n",
       "    <tr>\n",
       "      <th>1</th>\n",
       "      <td>44</td>\n",
       "      <td>technician</td>\n",
       "      <td>single</td>\n",
       "      <td>secondary</td>\n",
       "      <td>no</td>\n",
       "      <td>29</td>\n",
       "      <td>yes</td>\n",
       "      <td>no</td>\n",
       "      <td>unknown</td>\n",
       "      <td>5</td>\n",
       "      <td>may</td>\n",
       "      <td>151</td>\n",
       "      <td>1</td>\n",
       "      <td>-1</td>\n",
       "      <td>0</td>\n",
       "      <td>unknown</td>\n",
       "      <td>no</td>\n",
       "    </tr>\n",
       "    <tr>\n",
       "      <th>2</th>\n",
       "      <td>33</td>\n",
       "      <td>entrepreneur</td>\n",
       "      <td>married</td>\n",
       "      <td>secondary</td>\n",
       "      <td>no</td>\n",
       "      <td>2</td>\n",
       "      <td>yes</td>\n",
       "      <td>yes</td>\n",
       "      <td>unknown</td>\n",
       "      <td>5</td>\n",
       "      <td>may</td>\n",
       "      <td>76</td>\n",
       "      <td>1</td>\n",
       "      <td>-1</td>\n",
       "      <td>0</td>\n",
       "      <td>unknown</td>\n",
       "      <td>no</td>\n",
       "    </tr>\n",
       "    <tr>\n",
       "      <th>3</th>\n",
       "      <td>47</td>\n",
       "      <td>blue-collar</td>\n",
       "      <td>married</td>\n",
       "      <td>unknown</td>\n",
       "      <td>no</td>\n",
       "      <td>1506</td>\n",
       "      <td>yes</td>\n",
       "      <td>no</td>\n",
       "      <td>unknown</td>\n",
       "      <td>5</td>\n",
       "      <td>may</td>\n",
       "      <td>92</td>\n",
       "      <td>1</td>\n",
       "      <td>-1</td>\n",
       "      <td>0</td>\n",
       "      <td>unknown</td>\n",
       "      <td>no</td>\n",
       "    </tr>\n",
       "    <tr>\n",
       "      <th>4</th>\n",
       "      <td>33</td>\n",
       "      <td>unknown</td>\n",
       "      <td>single</td>\n",
       "      <td>unknown</td>\n",
       "      <td>no</td>\n",
       "      <td>1</td>\n",
       "      <td>no</td>\n",
       "      <td>no</td>\n",
       "      <td>unknown</td>\n",
       "      <td>5</td>\n",
       "      <td>may</td>\n",
       "      <td>198</td>\n",
       "      <td>1</td>\n",
       "      <td>-1</td>\n",
       "      <td>0</td>\n",
       "      <td>unknown</td>\n",
       "      <td>no</td>\n",
       "    </tr>\n",
       "    <tr>\n",
       "      <th>5</th>\n",
       "      <td>35</td>\n",
       "      <td>management</td>\n",
       "      <td>married</td>\n",
       "      <td>tertiary</td>\n",
       "      <td>no</td>\n",
       "      <td>231</td>\n",
       "      <td>yes</td>\n",
       "      <td>no</td>\n",
       "      <td>unknown</td>\n",
       "      <td>5</td>\n",
       "      <td>may</td>\n",
       "      <td>139</td>\n",
       "      <td>1</td>\n",
       "      <td>-1</td>\n",
       "      <td>0</td>\n",
       "      <td>unknown</td>\n",
       "      <td>no</td>\n",
       "    </tr>\n",
       "    <tr>\n",
       "      <th>6</th>\n",
       "      <td>28</td>\n",
       "      <td>management</td>\n",
       "      <td>single</td>\n",
       "      <td>tertiary</td>\n",
       "      <td>no</td>\n",
       "      <td>447</td>\n",
       "      <td>yes</td>\n",
       "      <td>yes</td>\n",
       "      <td>unknown</td>\n",
       "      <td>5</td>\n",
       "      <td>may</td>\n",
       "      <td>217</td>\n",
       "      <td>1</td>\n",
       "      <td>-1</td>\n",
       "      <td>0</td>\n",
       "      <td>unknown</td>\n",
       "      <td>no</td>\n",
       "    </tr>\n",
       "    <tr>\n",
       "      <th>7</th>\n",
       "      <td>42</td>\n",
       "      <td>entrepreneur</td>\n",
       "      <td>divorced</td>\n",
       "      <td>tertiary</td>\n",
       "      <td>yes</td>\n",
       "      <td>2</td>\n",
       "      <td>yes</td>\n",
       "      <td>no</td>\n",
       "      <td>unknown</td>\n",
       "      <td>5</td>\n",
       "      <td>may</td>\n",
       "      <td>380</td>\n",
       "      <td>1</td>\n",
       "      <td>-1</td>\n",
       "      <td>0</td>\n",
       "      <td>unknown</td>\n",
       "      <td>no</td>\n",
       "    </tr>\n",
       "    <tr>\n",
       "      <th>8</th>\n",
       "      <td>58</td>\n",
       "      <td>retired</td>\n",
       "      <td>married</td>\n",
       "      <td>primary</td>\n",
       "      <td>no</td>\n",
       "      <td>121</td>\n",
       "      <td>yes</td>\n",
       "      <td>no</td>\n",
       "      <td>unknown</td>\n",
       "      <td>5</td>\n",
       "      <td>may</td>\n",
       "      <td>50</td>\n",
       "      <td>1</td>\n",
       "      <td>-1</td>\n",
       "      <td>0</td>\n",
       "      <td>unknown</td>\n",
       "      <td>no</td>\n",
       "    </tr>\n",
       "    <tr>\n",
       "      <th>9</th>\n",
       "      <td>43</td>\n",
       "      <td>technician</td>\n",
       "      <td>single</td>\n",
       "      <td>secondary</td>\n",
       "      <td>no</td>\n",
       "      <td>593</td>\n",
       "      <td>yes</td>\n",
       "      <td>no</td>\n",
       "      <td>unknown</td>\n",
       "      <td>5</td>\n",
       "      <td>may</td>\n",
       "      <td>55</td>\n",
       "      <td>1</td>\n",
       "      <td>-1</td>\n",
       "      <td>0</td>\n",
       "      <td>unknown</td>\n",
       "      <td>no</td>\n",
       "    </tr>\n",
       "  </tbody>\n",
       "</table>\n",
       "</div>"
      ],
      "text/plain": [
       "   age           job   marital  education default  balance housing loan  \\\n",
       "0   58    management   married   tertiary      no     2143     yes   no   \n",
       "1   44    technician    single  secondary      no       29     yes   no   \n",
       "2   33  entrepreneur   married  secondary      no        2     yes  yes   \n",
       "3   47   blue-collar   married    unknown      no     1506     yes   no   \n",
       "4   33       unknown    single    unknown      no        1      no   no   \n",
       "5   35    management   married   tertiary      no      231     yes   no   \n",
       "6   28    management    single   tertiary      no      447     yes  yes   \n",
       "7   42  entrepreneur  divorced   tertiary     yes        2     yes   no   \n",
       "8   58       retired   married    primary      no      121     yes   no   \n",
       "9   43    technician    single  secondary      no      593     yes   no   \n",
       "\n",
       "   contact  day month  duration  campaign  pdays  previous poutcome   y  \n",
       "0  unknown    5   may       261         1     -1         0  unknown  no  \n",
       "1  unknown    5   may       151         1     -1         0  unknown  no  \n",
       "2  unknown    5   may        76         1     -1         0  unknown  no  \n",
       "3  unknown    5   may        92         1     -1         0  unknown  no  \n",
       "4  unknown    5   may       198         1     -1         0  unknown  no  \n",
       "5  unknown    5   may       139         1     -1         0  unknown  no  \n",
       "6  unknown    5   may       217         1     -1         0  unknown  no  \n",
       "7  unknown    5   may       380         1     -1         0  unknown  no  \n",
       "8  unknown    5   may        50         1     -1         0  unknown  no  \n",
       "9  unknown    5   may        55         1     -1         0  unknown  no  "
      ]
     },
     "execution_count": 33,
     "metadata": {},
     "output_type": "execute_result"
    }
   ],
   "source": [
    "df = pd.read_csv(\"data/banking_term_deposits.csv\", delimiter=\";\")\n",
    "df.head(10)"
   ]
  },
  {
   "cell_type": "markdown",
   "id": "1e558afb",
   "metadata": {},
   "source": [
    "# Start with a basic generation request without RAG augmentation\n",
    "\n",
    "Let's start by asking the model a question about our SQL data which we don't expect it to know the answer to. For example:\n",
    "\n",
    "*What is the average balance of all management jobs who applied for banking deposits?*"
   ]
  },
  {
   "cell_type": "code",
   "execution_count": 17,
   "id": "6133a928",
   "metadata": {},
   "outputs": [],
   "source": [
    "query = \"What is the average balance of all management jobs who applied for banking deposits?\""
   ]
  },
  {
   "cell_type": "markdown",
   "id": "46017dde-259c-4c28-9cf8-e7ba3a060140",
   "metadata": {},
   "source": [
    "## Now send the query to the open source model using KScope"
   ]
  },
  {
   "cell_type": "code",
   "execution_count": 18,
   "id": "1ca06b53-7435-4529-9db3-a6d6b2f50fd1",
   "metadata": {},
   "outputs": [
    {
     "name": "stdout",
     "output_type": "stream",
     "text": [
      "Result: \n",
      "\n",
      "To answer your question, I need to clarify a few things:\n",
      "\n",
      "- **Data Source:** Are you referring to a specific dataset or database? If so, please provide the relevant data or a sample.\n",
      "- **Definitions:**\n",
      "  - *Management jobs*: Are these identified by a \"job\" column with the value \"management\"?\n",
      "  - *Applied for banking deposits*: Is there a column indicating whether someone applied for a deposit (e.g., \"deposit\" = \"yes\")?\n",
      "  - *Balance*: Is there a \"balance\" column representing the account balance?\n",
      "\n",
      "Assuming you are referring to the popular **Bank Marketing dataset** (often used in data science exercises), and using the following columns:\n",
      "- `job` (e.g., \"management\")\n",
      "- `balance` (numeric)\n",
      "- `deposit` (e.g., \"yes\" or \"no\")\n",
      "\n",
      "**The average balance of all management jobs who applied for banking deposits** can be calculated as:\n",
      "\n",
      "> **Average balance = (Sum of balances for management job applicants who applied for deposit) / (Number of such applicants)**\n",
      "\n",
      "### Example (in Python/pandas):\n",
      "\n",
      "```python\n",
      "import pandas as pd\n",
      "\n",
      "# Assuming df is your DataFrame\n",
      "filtered = df[(df['job'] == 'management')\n"
     ]
    }
   ],
   "source": [
    "llm = ChatOpenAI(\n",
    "    model=GENERATOR_MODEL_NAME,\n",
    "    temperature=0,\n",
    "    max_tokens=256,\n",
    "    base_url=OPENAI_BASE_URL,\n",
    "    api_key=OPENAI_API_KEY\n",
    ")\n",
    "message = [\n",
    "    (\"human\", query),\n",
    "]\n",
    "try:\n",
    "    result = llm.invoke(message)\n",
    "    print(f\"Result: \\n\\n{result.content}\")\n",
    "except Exception as err:\n",
    "    if \"Error code: 503\" in err.message:\n",
    "        print(f\"The model {GENERATOR_MODEL_NAME} is not ready yet.\")\n",
    "    else:\n",
    "        raise"
   ]
  },
  {
   "cell_type": "markdown",
   "id": "5dee61c0-bc6c-4d4e-8b0f-5287b185382d",
   "metadata": {},
   "source": [
    "Naturally, without any context the model is unable to answer our question."
   ]
  },
  {
   "cell_type": "markdown",
   "id": "0255ea68",
   "metadata": {},
   "source": [
    "## Set up a database chain"
   ]
  },
  {
   "cell_type": "markdown",
   "id": "ba9d0304",
   "metadata": {},
   "source": [
    "Next, we want to set up a **database chain**. This is a tool that leverages the LLM to turn our question into a syntactically-correct SQL query."
   ]
  },
  {
   "cell_type": "code",
   "execution_count": 29,
   "id": "5710c72d",
   "metadata": {},
   "outputs": [],
   "source": [
    "db = SQLDatabase.from_uri(f\"sqlite:///{DB_FILE}\")\n",
    "db_chain = SQLDatabaseChain.from_llm(llm, db, verbose=True)"
   ]
  },
  {
   "cell_type": "markdown",
   "id": "5f3307f4-734f-47b9-985a-37499de51928",
   "metadata": {},
   "source": [
    "Notably, let's take a look at the prompt that our database chain is about to ask the LLM."
   ]
  },
  {
   "cell_type": "code",
   "execution_count": 30,
   "id": "0925da1b-d837-49bc-abec-fc51d85c5940",
   "metadata": {},
   "outputs": [
    {
     "name": "stdout",
     "output_type": "stream",
     "text": [
      "You are a SQLite expert. Given an input question, first create a syntactically correct SQLite query to run, then look at the results of the query and return the answer to the input question.\n",
      "Unless the user specifies in the question a specific number of examples to obtain, query for at most {top_k} results using the LIMIT clause as per SQLite. You can order the results to return the most informative data in the database.\n",
      "Never query for all columns from a table. You must query only the columns that are needed to answer the question. Wrap each column name in double quotes (\") to denote them as delimited identifiers.\n",
      "Pay attention to use only the column names you can see in the tables below. Be careful to not query for columns that do not exist. Also, pay attention to which column is in which table.\n",
      "Pay attention to use date('now') function to get the current date, if the question involves \"today\".\n",
      "\n",
      "Use the following format:\n",
      "\n",
      "Question: Question here\n",
      "SQLQuery: SQL Query to run\n",
      "SQLResult: Result of the SQLQuery\n",
      "Answer: Final answer here\n",
      "\n",
      "Only use the following tables:\n",
      "{table_info}\n",
      "\n",
      "Question: {input}\n"
     ]
    }
   ],
   "source": [
    "print(db_chain.llm_chain.prompt.template)"
   ]
  },
  {
   "cell_type": "markdown",
   "id": "b4a7545e",
   "metadata": {},
   "source": [
    "## Send the chain request"
   ]
  },
  {
   "cell_type": "markdown",
   "id": "01bc16fe",
   "metadata": {},
   "source": [
    "A lot of magic happens in this next step. The following things happen in the background from the given line of code:\n",
    "- The prompt above gets sent to the LLM (Llama-3.1), which returns a syntactically-correct SQL query.\n",
    "- We send that query to our SQLite database and get some results.\n",
    "- These results get sent back to the LLM along with our original query, which then returns a natural language response. Often times the response is just the basic answer, but sometimes the answer gets wrapped up in a longer text response."
   ]
  },
  {
   "cell_type": "code",
   "execution_count": 31,
   "id": "1048c42a",
   "metadata": {},
   "outputs": [
    {
     "name": "stdout",
     "output_type": "stream",
     "text": [
      "\n",
      "\n",
      "\u001b[1m> Entering new SQLDatabaseChain chain...\u001b[0m\n",
      "What is the average balance of all management jobs who applied for banking deposits?\n",
      "SQLQuery:\u001b[32;1m\u001b[1;3mSQLQuery: SELECT AVG(\"balance\") FROM banking_term_deposits WHERE \"job\" = 'management'\u001b[0m\n",
      "SQLResult: \u001b[33;1m\u001b[1;3m[(1763.6168323112709,)]\u001b[0m\n",
      "Answer:\u001b[32;1m\u001b[1;3mQuestion: What is the average balance of all management jobs who applied for banking deposits?\n",
      "SQLQuery: SELECT AVG(\"balance\") FROM banking_term_deposits WHERE \"job\" = 'management'\u001b[0m\n",
      "\u001b[1m> Finished chain.\u001b[0m\n"
     ]
    }
   ],
   "source": [
    "result = db_chain.invoke(query)"
   ]
  },
  {
   "cell_type": "markdown",
   "id": "628e56a4-33ca-4b10-b17a-17d3c846b732",
   "metadata": {},
   "source": [
    "#### Verify the answer using pandas"
   ]
  },
  {
   "cell_type": "code",
   "execution_count": 25,
   "id": "d6a049a0-aa60-4a49-8d48-4aff5171d214",
   "metadata": {},
   "outputs": [
    {
     "name": "stdout",
     "output_type": "stream",
     "text": [
      "Correct answer using pandas: 1763.6168323112709\n"
     ]
    }
   ],
   "source": [
    "print(f\"Correct answer using pandas: {df.loc[df['job']=='management', 'balance'].mean()}\")"
   ]
  },
  {
   "cell_type": "markdown",
   "id": "8fe1690e",
   "metadata": {},
   "source": [
    "This matches with the answer (see ```SQLResult```) returned from the SQL chain above, but the model fails to provide the answer in the final result output. The prompt can be modified to fix this.\n",
    "\n",
    "Try running the chain request again a few times. You'll probably see different responses each time, sometimes incorrect."
   ]
  }
 ],
 "metadata": {
  "kernelspec": {
   "display_name": ".venv",
   "language": "python",
   "name": "python3"
  },
  "language_info": {
   "codemirror_mode": {
    "name": "ipython",
    "version": 3
   },
   "file_extension": ".py",
   "mimetype": "text/x-python",
   "name": "python",
   "nbconvert_exporter": "python",
   "pygments_lexer": "ipython3",
   "version": "3.10.17"
  }
 },
 "nbformat": 4,
 "nbformat_minor": 5
}
